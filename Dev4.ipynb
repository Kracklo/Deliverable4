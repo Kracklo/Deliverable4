{
  "nbformat": 4,
  "nbformat_minor": 0,
  "metadata": {
    "colab": {
      "provenance": [],
      "authorship_tag": "ABX9TyPCvEHIZ/MxevVmlgUxALrZ",
      "include_colab_link": true
    },
    "kernelspec": {
      "name": "python3",
      "display_name": "Python 3"
    },
    "language_info": {
      "name": "python"
    }
  },
  "cells": [
    {
      "cell_type": "markdown",
      "metadata": {
        "id": "view-in-github",
        "colab_type": "text"
      },
      "source": [
        "<a href=\"https://colab.research.google.com/github/Kracklo/Deliverable4/blob/main/Dev4.ipynb\" target=\"_parent\"><img src=\"https://colab.research.google.com/assets/colab-badge.svg\" alt=\"Open In Colab\"/></a>"
      ]
    },
    {
      "cell_type": "code",
      "execution_count": 16,
      "metadata": {
        "id": "vCIrzbIS1ezz"
      },
      "outputs": [],
      "source": [
        "import random\n",
        "\n"
      ]
    },
    {
      "cell_type": "code",
      "source": [
        "def funct1(length):\n",
        "  return [random.randint(10,50) for _ in range(length)]"
      ],
      "metadata": {
        "id": "B3kRyP4gAvnd"
      },
      "execution_count": 17,
      "outputs": []
    },
    {
      "cell_type": "code",
      "source": [
        "def funct2(lst):\n",
        "  return sum(lst)"
      ],
      "metadata": {
        "id": "XFZFst9MBLwy"
      },
      "execution_count": 18,
      "outputs": []
    },
    {
      "cell_type": "code",
      "source": [
        "while True:\n",
        "  user_entry = int(input(\"Enter an integer between 5 and 15: \"))\n",
        "  if user_entry >= 5 and user_entry <= 15:\n",
        "    break"
      ],
      "metadata": {
        "colab": {
          "base_uri": "https://localhost:8080/"
        },
        "id": "-HKDdVFwCyxB",
        "outputId": "f8fab50c-7ff8-41f6-f0f7-c020c9c55085"
      },
      "execution_count": 19,
      "outputs": [
        {
          "name": "stdout",
          "output_type": "stream",
          "text": [
            "Enter an integer between 5 and 15: 6\n"
          ]
        }
      ]
    },
    {
      "cell_type": "code",
      "source": [
        "lst = funct1(user_entry)\n",
        "print(\"The elements of the array are:\", \" \".join(str(x) for x in lst))"
      ],
      "metadata": {
        "colab": {
          "base_uri": "https://localhost:8080/"
        },
        "id": "nO6c90LYGuuq",
        "outputId": "54d5d828-f643-4bf8-b5b9-73a44bfec789"
      },
      "execution_count": 20,
      "outputs": [
        {
          "output_type": "stream",
          "name": "stdout",
          "text": [
            "The elements of the array are: 35 48 39 43 34 16\n"
          ]
        }
      ]
    },
    {
      "cell_type": "code",
      "source": [
        "total_sum = funct2(lst)\n",
        "print(\"The sum is:\", total_sum)"
      ],
      "metadata": {
        "colab": {
          "base_uri": "https://localhost:8080/"
        },
        "id": "Nf-4Io1vHQ2m",
        "outputId": "044e7d6f-7672-4788-9ace-0086baf8d4f9"
      },
      "execution_count": 22,
      "outputs": [
        {
          "output_type": "stream",
          "name": "stdout",
          "text": [
            "The sum is: 215\n"
          ]
        }
      ]
    }
  ]
}